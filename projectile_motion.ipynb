{
  "nbformat": 4,
  "nbformat_minor": 0,
  "metadata": {
    "colab": {
      "name": "projectile motion.ipynb",
      "provenance": [],
      "include_colab_link": true
    },
    "kernelspec": {
      "name": "python3",
      "display_name": "Python 3"
    },
    "language_info": {
      "name": "python"
    }
  },
  "cells": [
    {
      "cell_type": "markdown",
      "metadata": {
        "id": "view-in-github",
        "colab_type": "text"
      },
      "source": [
        "<a href=\"https://colab.research.google.com/github/KJ-black/Machine-Learning-on-Material-Informatics/blob/main/projectile_motion.ipynb\" target=\"_parent\"><img src=\"https://colab.research.google.com/assets/colab-badge.svg\" alt=\"Open In Colab\"/></a>"
      ]
    },
    {
      "cell_type": "markdown",
      "source": [
        "# Data Generation"
      ],
      "metadata": {
        "id": "ken85SCq5lDH"
      }
    },
    {
      "cell_type": "code",
      "execution_count": 9,
      "metadata": {
        "id": "ijrnAtXz51Jb"
      },
      "outputs": [],
      "source": [
        "import numpy as np\n",
        "import random\n",
        "\n",
        "n = 100000 # number of dataset\n",
        "data = []\n",
        "for i in range(n):\n",
        "  angle = random.uniform(0, np.pi/2)\n",
        "  v = random.uniform(0, 100)\n",
        "  h = ((v*np.sin(angle))**2)/(2*9.8)\n",
        "  d = (v**2*2*np.sin(angle)*np.cos(angle))/9.8\n",
        "  data.append([angle, v, h, d])\n",
        "data = np.array(data)"
      ]
    }
  ]
}
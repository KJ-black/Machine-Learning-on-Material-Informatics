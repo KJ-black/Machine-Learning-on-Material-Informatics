{
 "cells": [
  {
   "cell_type": "code",
   "execution_count": 3,
   "id": "8e75c8e5",
   "metadata": {},
   "outputs": [],
   "source": [
    "import pandas as pd\n",
    "import numpy as np\n",
    "import matplotlib.pyplot as plt\n",
    "import seaborn as sns \n",
    "\n",
    "import tqdm"
   ]
  },
  {
   "cell_type": "code",
   "execution_count": 4,
   "id": "5d739b97",
   "metadata": {},
   "outputs": [
    {
     "name": "stdout",
     "output_type": "stream",
     "text": [
      "indexs: ['Ag-Ti' 'Ag-V' 'Ag-Cr' 'Ag-Mn' 'Ag-Fe' 'Ag-Co' 'Ag-Ni' 'Ag-Mo' 'Ag-Zr'\n",
      " 'Ag-Nb' 'Ag-Ru' 'Ag-Rh' 'Ag-Pd' 'Ag-Hf' 'Ag-Ta' 'Ag-W' 'Ag-Re' 'Ag-Os'\n",
      " 'Ag-Ir' 'Ag-Pt' 'Au-Ti' 'Au-V' 'Au-Cr' 'Au-Mn' 'Au-Fe' 'Au-Co' 'Au-Ni'\n",
      " 'Au-Mo' 'Au-Zr' 'Au-Nb' 'Au-Ru' 'Au-Rh' 'Au-Pd' 'Au-Hf' 'Au-Ta' 'Au-W'\n",
      " 'Au-Re' 'Au-Os' 'Au-Ir' 'Au-Pt' 'Cu-Ti' 'Cu-V' 'Cu-Cr' 'Cu-Mn' 'Cu-Fe'\n",
      " 'Cu-Co' 'Cu-Ni' 'Cu-Mo' 'Cu-Zr' 'Cu-Nb' 'Cu-Ru' 'Cu-Rh' 'Cu-Pd' 'Cu-Hf'\n",
      " 'Cu-Ta' 'Cu-W' 'Cu-Re' 'Cu-Os' 'Cu-Ir' 'Cu-Pt']\n",
      "cols: Index(['CO', 'CO2', 'H', 'H2', 'H2O', 'N', 'N2', 'O', 'OH', 'OOH', 'C', 'COH',\n",
      "       'O2', 'CH3', 'CHO', 'NH3'],\n",
      "      dtype='object')\n"
     ]
    }
   ],
   "source": [
    "def conv(val):\n",
    "    if val == np.nan:\n",
    "        return 0 # or whatever else you want to represent your NaN with\n",
    "    return val\n",
    "\n",
    "y_Ag = pd.read_csv(\"./dataset/Ag.csv\", encoding='utf-8', index_col=0).dropna()\n",
    "y_Au = pd.read_csv(\"./dataset/Au.csv\", encoding='utf-8', index_col=0).dropna()\n",
    "y_Cu = pd.read_csv(\"./dataset/Cu.csv\", encoding='utf-8', index_col=0).dropna()\n",
    "# y_Ag = pd.read_csv(\"./old_dataset/Ag.csv\", encoding='utf-8', index_col=0).dropna()\n",
    "# y_Au = pd.read_csv(\"./old_dataset/Au.csv\", encoding='utf-8', index_col=0).dropna()\n",
    "# y_Cu = pd.read_csv(\"./old_dataset/Cu.csv\", encoding='utf-8', index_col=0).dropna()\n",
    "\n",
    "\n",
    "y_dict = {\"Ag\":y_Ag, \"Au\":y_Au, \"Cu\":y_Cu}\n",
    "indexs = np.append(y_Ag.index.to_numpy(), [y_Au.index.to_numpy(), y_Cu.index.to_numpy()])\n",
    "cols = y_Ag.columns\n",
    "print(\"indexs:\", indexs)\n",
    "print(\"cols:\", cols)"
   ]
  },
  {
   "cell_type": "code",
   "execution_count": 7,
   "id": "c1bcc0b8",
   "metadata": {
    "scrolled": false
   },
   "outputs": [
    {
     "name": "stderr",
     "output_type": "stream",
     "text": [
      "  0%|                                                                                                        | 0/60 [00:00<?, ?it/s]"
     ]
    },
    {
     "name": "stdout",
     "output_type": "stream",
     "text": [
      "y shape (1,)\n",
      "x shape (1, 41, 526)\n",
      "z shape (1, 3)\n"
     ]
    },
    {
     "name": "stderr",
     "output_type": "stream",
     "text": [
      "\n"
     ]
    }
   ],
   "source": [
    "import os\n",
    "# assign directory\n",
    "dir_name = \"./dataset/data_spd/\"\n",
    "dir_list = ['Ag', 'Au', 'Cu']\n",
    "\n",
    "import cv2\n",
    "\n",
    "y = []\n",
    "x = []\n",
    "z = []\n",
    "reshape_size = (2, 750)\n",
    " \n",
    "# iterate over files in\n",
    "# that directory\n",
    "for index in tqdm.tqdm(indexs):\n",
    "    metal = index.split(\"-\")[0]\n",
    "    sub_metal = index.split(\"-\")[1]\n",
    "    for col in cols:\n",
    "        sub_dir = \"./dataset/data_spd/%s/%s/%s/dos\"%(metal, index, col) \n",
    "#         sub_dir = \"./old_dataset/%s/%s/%s/dos\"%(metal, index, col)\n",
    "        tmp = []\n",
    "        for file in os.listdir(sub_dir):\n",
    "            f = os.path.join(sub_dir, file)\n",
    "            # checking if it is a file\n",
    "            if os.path.isfile(f):\n",
    "                split = f.split('.')\n",
    "                if len(split)==2: continue\n",
    "                if split[2] == \"dat\":\n",
    "                    split = f.split('-')\n",
    "#                     if split[2] == \"p\" or split[2] == \"d\" or split[2] == \"s\" or \"TDOS-aft.dat\" in f:\n",
    "                    dat = pd.read_csv(f,  sep=\"\\s+\", names=[\"DOS\", \"Energy\"], header=None)\n",
    "                    tmp.append(cv2.resize(dat.to_numpy(), dsize=reshape_size, interpolation=cv2.INTER_CUBIC)[:, 0])\n",
    "#                     else:\n",
    "#                         continue\n",
    "        if np.array(tmp).shape[0] == 0:\n",
    "            continue\n",
    "        x.append(np.array(tmp))\n",
    "        y.append(y_dict[metal].loc[index][col])\n",
    "        z.append([metal, sub_metal, col])\n",
    "y = np.array(y) # y shape (780,)\n",
    "x = np.array(x)\n",
    "z = np.array(z)\n",
    "\n",
    "print(\"y shape\", y.shape)\n",
    "print(\"x shape\", x.shape)\n",
    "print(\"z shape\", z.shape)"
   ]
  },
  {
   "cell_type": "code",
   "execution_count": 8,
   "id": "77bdbdd3",
   "metadata": {},
   "outputs": [
    {
     "name": "stdout",
     "output_type": "stream",
     "text": [
      "(1, 526, 41)\n"
     ]
    }
   ],
   "source": [
    "x = np.transpose(x, (0, 2, 1)) # shape (2640, 750, 41)\n",
    "print(x.shape)"
   ]
  },
  {
   "cell_type": "code",
   "execution_count": 8,
   "id": "0d88e863",
   "metadata": {},
   "outputs": [],
   "source": [
    "np.save(\"input\", x)\n",
    "np.save(\"target\", y)\n",
    "np.save(\"name\", z)"
   ]
  },
  {
   "cell_type": "code",
   "execution_count": null,
   "id": "5c7904d4",
   "metadata": {},
   "outputs": [],
   "source": []
  }
 ],
 "metadata": {
  "kernelspec": {
   "display_name": "Python 3 (ipykernel)",
   "language": "python",
   "name": "python3"
  },
  "language_info": {
   "codemirror_mode": {
    "name": "ipython",
    "version": 3
   },
   "file_extension": ".py",
   "mimetype": "text/x-python",
   "name": "python",
   "nbconvert_exporter": "python",
   "pygments_lexer": "ipython3",
   "version": "3.7.13"
  }
 },
 "nbformat": 4,
 "nbformat_minor": 5
}

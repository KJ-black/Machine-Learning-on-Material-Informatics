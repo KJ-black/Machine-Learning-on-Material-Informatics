{
  "nbformat": 4,
  "nbformat_minor": 0,
  "metadata": {
    "colab": {
      "name": "HW8 Image Segmentation",
      "provenance": [],
      "include_colab_link": true
    },
    "kernelspec": {
      "name": "python3",
      "display_name": "Python 3"
    },
    "language_info": {
      "name": "python"
    }
  },
  "cells": [
    {
      "cell_type": "markdown",
      "metadata": {
        "id": "view-in-github",
        "colab_type": "text"
      },
      "source": [
        "<a href=\"https://colab.research.google.com/github/KJ-black/Machine-Learning-on-Material-Informatics/blob/main/HW8_Image_Segmentation/HW8_Image_Segmentation.ipynb\" target=\"_parent\"><img src=\"https://colab.research.google.com/assets/colab-badge.svg\" alt=\"Open In Colab\"/></a>"
      ]
    },
    {
      "cell_type": "markdown",
      "source": [
        "# Create Simple Image\n",
        "Using numpy to create the image \n",
        "- 0: white\n",
        "- 1: black"
      ],
      "metadata": {
        "id": "xIq7IDQ05fjf"
      }
    },
    {
      "cell_type": "code",
      "execution_count": 23,
      "metadata": {
        "id": "oxfF0xSw4-iK",
        "outputId": "989c1315-5c6a-4f2e-980f-5d4cc08145ca",
        "colab": {
          "base_uri": "https://localhost:8080/",
          "height": 265
        }
      },
      "outputs": [
        {
          "output_type": "display_data",
          "data": {
            "text/plain": [
              "<Figure size 432x288 with 1 Axes>"
            ],
            "image/png": "[encoded data removed]"
          },
          "metadata": {
            "needs_background": "light"
          }
        }
      ],
      "source": [
        "import numpy as np\n",
        "from PIL import Image\n",
        "import matplotlib.pyplot as plt\n",
        "\n",
        "data = np.array(\n",
        "    [[0, 0, 0, 0, 0, 0, 0, 0, 0, 0],\n",
        "    [0, 1, 1, 1, 1, 0, 0, 0, 1, 1], \n",
        "    [0, 0, 1, 1, 1, 0, 1, 1, 1, 1], \n",
        "    [0, 0, 1, 1, 0, 0, 1, 1, 1, 1],\n",
        "    [0, 1, 1, 1, 0, 0, 1, 1, 1, 0], \n",
        "    [0, 0, 0, 0, 0, 0, 0, 0, 1, 0],\n",
        "    [0, 0, 0, 1, 1, 1, 0, 0, 1, 0], \n",
        "    [0, 0, 0, 1, 1, 1, 1, 0, 0, 0],\n",
        "    [0, 0, 0, 1, 1, 1, 1, 0, 0, 0], \n",
        "    [0, 0, 0, 0, 0, 0, 1, 0, 0, 0]]\n",
        ")\n",
        "plt.imshow(data, cmap='binary')\n",
        "plt.show()"
      ]
    },
    {
      "cell_type": "markdown",
      "source": [
        "# Algorithm to Segment the Image"
      ],
      "metadata": {
        "id": "GFesjuazFMya"
      }
    },
    {
      "cell_type": "code",
      "source": [
        ""
      ],
      "metadata": {
        "id": "r8UdF9qmFThN"
      },
      "execution_count": null,
      "outputs": []
    },
    {
      "cell_type": "markdown",
      "source": [
        ""
      ],
      "metadata": {
        "id": "b77zhcKOFTWO"
      }
    }
  ]
}
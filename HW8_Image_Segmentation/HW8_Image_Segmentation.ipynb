{
  "nbformat": 4,
  "nbformat_minor": 0,
  "metadata": {
    "colab": {
      "name": "HW8 Image Segmentation",
      "provenance": [],
      "include_colab_link": true
    },
    "kernelspec": {
      "name": "python3",
      "display_name": "Python 3"
    },
    "language_info": {
      "name": "python"
    }
  },
  "cells": [
    {
      "cell_type": "markdown",
      "metadata": {
        "id": "view-in-github",
        "colab_type": "text"
      },
      "source": [
        "<a href=\"https://colab.research.google.com/github/KJ-black/Machine-Learning-on-Material-Informatics/blob/main/HW8_Image_Segmentation/HW8_Image_Segmentation.ipynb\" target=\"_parent\"><img src=\"https://colab.research.google.com/assets/colab-badge.svg\" alt=\"Open In Colab\"/></a>"
      ]
    },
    {
      "cell_type": "markdown",
      "source": [
        "# Create Simple Image\n",
        "Using numpy to create the image \n",
        "- 0: white\n",
        "- 1: black"
      ],
      "metadata": {
        "id": "xIq7IDQ05fjf"
      }
    },
    {
      "cell_type": "code",
      "execution_count": 39,
      "metadata": {
        "id": "oxfF0xSw4-iK",
        "colab": {
          "base_uri": "https://localhost:8080/",
          "height": 265
        },
        "outputId": "f2ed76af-a6e2-42be-d01b-25bf89f83661"
      },
      "outputs": [
        {
          "output_type": "display_data",
          "data": {
            "text/plain": [
              "<Figure size 432x288 with 1 Axes>"
            ],
            "image/png": "[encoded data removed]"
          },
          "metadata": {
            "needs_background": "light"
          }
        }
      ],
      "source": [
        "import numpy as np\n",
        "import matplotlib.pyplot as plt\n",
        "\n",
        "data = np.array(\n",
        "    [[0, 0, 0, 0, 0, 0, 0, 0, 0, 0],\n",
        "    [0, 1, 1, 1, 1, 0, 0, 0, 1, 1], \n",
        "    [0, 0, 1, 1, 1, 0, 1, 1, 1, 1], \n",
        "    [0, 0, 1, 1, 0, 0, 1, 1, 1, 1],\n",
        "    [0, 1, 1, 1, 0, 0, 1, 1, 1, 0], \n",
        "    [0, 0, 0, 0, 0, 0, 0, 0, 1, 0],\n",
        "    [0, 0, 0, 1, 1, 1, 0, 0, 1, 0], \n",
        "    [0, 0, 0, 1, 1, 1, 1, 0, 0, 0],\n",
        "    [0, 0, 0, 1, 1, 1, 1, 0, 0, 0], \n",
        "    [0, 0, 0, 0, 0, 0, 1, 0, 0, 0]]\n",
        ")\n",
        "plt.imshow(data, cmap='binary')\n",
        "plt.show()"
      ]
    },
    {
      "cell_type": "markdown",
      "source": [
        "# Algorithm to Segment the Image\n",
        "Using DFS method to travse one black block, the start point is a black point."
      ],
      "metadata": {
        "id": "GFesjuazFMya"
      }
    },
    {
      "cell_type": "code",
      "source": [
        "def DFS(array, row, col) :\n",
        "    direction = [(1, 0), (-1, 0), (0, 1), (0, -1)]\n",
        "    array[row, col] = 0 # visited \n",
        "    for row_d, col_d in direction:\n",
        "        new_row = row + row_d\n",
        "        new_col = col + col_d\n",
        "        \n",
        "        # check boundary condition and whether the new point is not visited yet\n",
        "        if 0 <= new_row < array.shape[0] and 0 <= new_col < array.shape[1] and array[new_row, new_col] == 1 :\n",
        "            DFS(array, new_row, new_col)"
      ],
      "metadata": {
        "id": "r8UdF9qmFThN"
      },
      "execution_count": 40,
      "outputs": []
    },
    {
      "cell_type": "markdown",
      "source": [
        "# Use DFS Algorithm to Get Each Black\n",
        "\n",
        "Use the travse array to do DFS and the different between travse and residual is the vistied black.\n",
        "\n",
        "### Some Notes\n",
        "- numpy copy (different from list)\n",
        "  - shallow copy (data will influence each other)\n",
        "    - b = a\n",
        "      - id(b) == id(a)\n",
        "    - b = a[:]\n",
        "      - will create a new instance b\n",
        "      - id(b) != id(a)\n",
        "  - deep copy (data won't influence each other)\n",
        "    - b = a.copy()"
      ],
      "metadata": {
        "id": "sEL7G5U9PTQH"
      }
    },
    {
      "cell_type": "code",
      "source": [
        "size_of_blocks = []\n",
        "blocks = []\n",
        "\n",
        "travse = data.copy() # travse is the data points that will be visited first \n",
        "residual = data.copy() # residual is the remains that not yet been visited\n",
        "\n",
        "# travse all the \n",
        "for row in range(data.shape[0]):\n",
        "    for col in range(data.shape[1]):\n",
        "\n",
        "        # Once visit the black point, use it as start point to do DFS\n",
        "        if travse[row, col] == 1 :\n",
        "            DFS(travse, row, col)\n",
        "            size_of_blocks.append(np.sum(residual) - np.sum(travse))\n",
        "            blocks.append(residual - travse)\n",
        "            residual = travse.copy()\n",
        "\n",
        "        if (np.sum(residual)==0):\n",
        "            break\n",
        "    if (np.sum(residual)==0):\n",
        "        break"
      ],
      "metadata": {
        "id": "tcbfJ9lBF_yH"
      },
      "execution_count": 49,
      "outputs": []
    },
    {
      "cell_type": "markdown",
      "source": [
        "# Show Result"
      ],
      "metadata": {
        "id": "OHwXW-x8TXBr"
      }
    },
    {
      "cell_type": "code",
      "source": [
        "print(\"Total number of black blocks in the image: %d\" % len(blocks))\n",
        "print()\n",
        "\n",
        "for i in range(len(blocks)) :\n",
        "    print(\"Blocks %d\" % i)\n",
        "    print('Ths size of block is: %d' % size_of_blocks[i])\n",
        "    plt.imshow(blocks[i], cmap='binary')\n",
        "    plt.show()\n",
        "    print()"
      ],
      "metadata": {
        "id": "sq9Huto7GA-i",
        "outputId": "00f1236c-d9db-42f3-a33a-8882cda6cf42",
        "colab": {
          "base_uri": "https://localhost:8080/",
          "height": 952
        }
      },
      "execution_count": 52,
      "outputs": [
        {
          "output_type": "stream",
          "name": "stdout",
          "text": [
            "Total number of black blocks in the image: 3\n",
            "\n",
            "Blocks 0\n",
            "Ths size of block is: 12\n"
          ]
        },
        {
          "output_type": "display_data",
          "data": {
            "text/plain": [
              "<Figure size 432x288 with 1 Axes>"
            ],
            "image/png": "[encoded data removed]"
          },
          "metadata": {
            "needs_background": "light"
          }
        },
        {
          "output_type": "stream",
          "name": "stdout",
          "text": [
            "\n",
            "Blocks 1\n",
            "Ths size of block is: 15\n"
          ]
        },
        {
          "output_type": "display_data",
          "data": {
            "text/plain": [
              "<Figure size 432x288 with 1 Axes>"
            ],
            "image/png": "[encoded data removed]"
          },
          "metadata": {
            "needs_background": "light"
          }
        },
        {
          "output_type": "stream",
          "name": "stdout",
          "text": [
            "\n",
            "Blocks 2\n",
            "Ths size of block is: 12\n"
          ]
        },
        {
          "output_type": "display_data",
          "data": {
            "text/plain": [
              "<Figure size 432x288 with 1 Axes>"
            ],
            "image/png": "[encoded data removed]"
          },
          "metadata": {
            "needs_background": "light"
          }
        },
        {
          "output_type": "stream",
          "name": "stdout",
          "text": [
            "\n"
          ]
        }
      ]
    }
  ]
}